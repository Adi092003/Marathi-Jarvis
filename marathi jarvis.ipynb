{
 "cells": [
  {
   "cell_type": "code",
   "execution_count": 1,
   "id": "dce21cf1-a0f7-4a6a-a728-e89aa2a280ec",
   "metadata": {
    "tags": []
   },
   "outputs": [],
   "source": [
    "!pip install gtts\n",
    "!pip install SpeechRecognition\n",
    "from gtts import gTTS\n",
    "import speech_recognition as sr"
   ]
  },
  {
   "cell_type": "code",
   "execution_count": 2,
   "id": "d7f4a9fc-6dfa-4d93-8eed-c631b9137175",
   "metadata": {
    "tags": []
   },
   "outputs": [],
   "source": [
    "!pip install PyAudio\n",
    "!pip install web-browser\n",
    "!pip install pywhatkit\n",
    "!pip install wikipedia\n",
    "!pip install PyAutoGUI\n",
    "!pip install py\n",
    "import webbrowser\n",
    "import pywhatkit\n",
    "import wikipedia\n",
    "import pyautogui\n",
    "import py\n",
    " \n",
    "import os"
   ]
  },
  {
   "cell_type": "code",
   "execution_count": 3,
   "id": "c0b2adda-a796-487e-9c47-d72e2cbe3b48",
   "metadata": {
    "tags": []
   },
   "outputs": [],
   "source": [
    "\n",
    "\n",
    "# Install the gTTS library if you haven't already\n",
    "# You can do this by running: pip install gTTS\n",
    "\n",
    "from gtts import gTTS\n",
    "import os\n",
    "\n",
    "def speak(text, output_file=\"output.mp3\"):\n",
    "    \"\"\"\n",
    "    Converts the given Marathi text to speech and saves it as an MP3 file.\n",
    "    :param text: The input text to convert.\n",
    "    :param output_file: The name of the output MP3 file.\n",
    "    \"\"\"\n",
    "    try:\n",
    "        # Create a gTTS object for Marathi language\n",
    "        tts = gTTS(text, lang=\"mr\")\n",
    "\n",
    "        # Save the speech to the specified output file\n",
    "        tts.save(output_file)\n",
    "        print(f\"Speech saved as {output_file}\")\n",
    "\n",
    "        # Play the speech using a system command (requires a media player)\n",
    "        os.system(f\"start {output_file}\")\n",
    "    except Exception as e:\n",
    "        print(f\"Error: {e}\")\n",
    "\n"
   ]
  },
  {
   "cell_type": "code",
   "execution_count": 4,
   "id": "789743cc-97ba-473c-b39d-401a9d436cb4",
   "metadata": {
    "tags": []
   },
   "outputs": [],
   "source": [
    "def takeCommand():\n",
    "    command = sr.Recognizer()\n",
    "    with sr.Microphone() as source:\n",
    "        print(\"listening....\",end=\"\",flush=True)\n",
    "        command.phrase_threshold = 1\n",
    "        command.phrase_threshold = 0.3\n",
    "        command.sample_rate = 48\n",
    "        #print(sr.Microphone.list_microphone_names())\n",
    "        command.dynamic_energy_threshold = True\n",
    "        command.operation_timeout =5\n",
    "        command.non_speaking_duration = 0.5\n",
    "        command.dynamic_energy_adjustment = 2\n",
    "        command.dynamic_energy_threshold = True\n",
    "        command.energy_threshold=4000\n",
    "        command.phrase_time_limit= 10\n",
    "        command.timeout = 5\n",
    "        \n",
    "        audio = command.listen(source)\n",
    "        \n",
    "        try:\n",
    "            print('\\r',end='',flush=True)\n",
    "            print(\"Recognizing......\",end=\"\",flush=True)\n",
    "            query = command.recognize_google(audio,language=\"mr-in && en-in\")\n",
    "            print('\\r',end='',flush=True)\n",
    "            print(f\" तुम्ही म्हणालात:\",(query))\n",
    "        except Exception as e:\n",
    "            return \"nsdnfowfonogjwbiqw\"\n",
    "        return query.lower()"
   ]
  },
  {
   "cell_type": "code",
   "execution_count": null,
   "id": "4b446048-4906-491a-af97-58b4e653fdd4",
   "metadata": {
    "tags": []
   },
   "outputs": [],
   "source": []
  },
  {
   "cell_type": "code",
   "execution_count": null,
   "id": "9643b651-483c-4191-b9e6-6333d1e676a4",
   "metadata": {
    "tags": []
   },
   "outputs": [],
   "source": []
  },
  {
   "cell_type": "code",
   "execution_count": 7,
   "id": "41c18b93-a973-4766-8c8d-351b4cf2c673",
   "metadata": {
    "tags": []
   },
   "outputs": [
    {
     "name": "stdout",
     "output_type": "stream",
     "text": [
      " तुम्ही म्हणालात: नमस्कार नमस्कार\n",
      "Speech saved as output.mp3\n"
     ]
    }
   ],
   "source": [
    "query = takeCommand()\n",
    "if \"नमस्कार\" in query:\n",
    "    speak(\"नमस्कार आपले स्वागत आहे.\")\n"
   ]
  },
  {
   "cell_type": "code",
   "execution_count": null,
   "id": "e05d887d-02a9-42b7-b8fa-245d16c40e26",
   "metadata": {},
   "outputs": [
    {
     "name": "stdout",
     "output_type": "stream",
     "text": [
      "Recognizing......listening....listening....listening....listening....listening....listening....listening....listening....listening....listening....listening...."
     ]
    }
   ],
   "source": [
    "def taskExec():\n",
    "    while True:\n",
    "        query = takeCommand()\n",
    "        if 'यूट्यूब' in query :\n",
    "            query = query.replace(\"jarvis\",\"\")\n",
    "            query = query.replace(\"यूट्यूब \",\"\")\n",
    "            web = \"https://www.youtube.com/results?search_query=\"+ query\n",
    "            webbrowser.open(web)\n",
    "            speak(\"Done sir\")\n",
    "        elif 'गुगल' in query:\n",
    "            query = query.replace(\"jarvis\",\"\")\n",
    "            query = query.replace(\"गुगल\",\"\")\n",
    "            pywhatkit.search(query)\n",
    "            speak(\"Done sir\")\n",
    "        elif 'गुगल' in query or \"music\" in query:\n",
    "            query = query.replace(\" गाणं\",\"\")\n",
    "            query = query.replace(\"music\",\"\")\n",
    "            pywhatkit.playonyt(query)\n",
    "            speak(f\"Ok sir,playing {query} on Youtube\")\n",
    "        elif \"विकिपीडिया\" in query :\n",
    "            query = query.replace(\"विकिपीडिया\",\"\")\n",
    "            wiki = wikipedia.summary(query,2)\n",
    "            speak(\"According to wikipedia,\"+wiki)\n",
    "        elif \"व्हाट्स ऐप\" in query:\n",
    "            if \"पाठव\" in query:\n",
    "                number = input(\"तुम्हाला मेसेज करायचा आहे तो नंबर टाका\\n\")\n",
    "                message = takeCommand()\n",
    "                pywhatkit.sendwhatmsg_instantly(f\"+91{number}\",message,tab_close=True)\n",
    "            else:\n",
    "                default_number= 7738409782\n",
    "                pywhatkit.sendwhatmsg_instantly(f\"+91{default_number}\",\"ह जर्विस द्वरा तयर केलेल message आहे \",tab_close=True)\n",
    "            speak(\"Done sir\")\n",
    "        elif \"स्क्रीन शॉट\" in query:\n",
    "            speak(\"Ok sir\")\n",
    "            pywhatkit.take_screenshot(\"स्क्रीन शॉट\")\n",
    "            speak(\"हे पहा !\")\n",
    "        elif \"हा टॅब बंद कर\" in query:\n",
    "            pyautogui.keyDown('ctrl')\n",
    "            pyautogui.press('w')\n",
    "            pyautogui.keyUp('ctrl')\n",
    "        elif \"नवीन टॅब उघड\" in query:\n",
    "            pyautogui.keyDown(\"ctrl\")\n",
    "            pyautogui.press('t')\n",
    "            pyautogui.keyUp('ctrl')\n",
    "        elif \"नवीन विंडो उघड\" in query :\n",
    "            pyautogui.keyDown('ctrl')\n",
    "            pyautogui.press('w')\n",
    "            pyautogui.keyUp('ctrl')\n",
    "        elif \"हिस्टरी दाखवा\" in query:\n",
    "            pyautogui.keyDown('ctrl')\n",
    "            pyautogui.press('h')\n",
    "            pyautogui.keyUp('ctrl')\n",
    "        elif \"जोक \" in query:\n",
    "            speak(\"हो नक्की!\")\n",
    "            speak(py.jokes.getjoke())\n",
    "        \n",
    "taskExec()\n",
    "            \n",
    "                                                \n",
    "            \n",
    "        "
   ]
  },
  {
   "cell_type": "code",
   "execution_count": null,
   "id": "4f1b6cfb-05d1-4b49-a3e9-a2190ead7f02",
   "metadata": {},
   "outputs": [],
   "source": []
  },
  {
   "cell_type": "code",
   "execution_count": null,
   "id": "99fd2614",
   "metadata": {},
   "outputs": [],
   "source": []
  }
 ],
 "metadata": {
  "kernelspec": {
   "display_name": "Python 3 (ipykernel)",
   "language": "python",
   "name": "python3"
  },
  "language_info": {
   "codemirror_mode": {
    "name": "ipython",
    "version": 3
   },
   "file_extension": ".py",
   "mimetype": "text/x-python",
   "name": "python",
   "nbconvert_exporter": "python",
   "pygments_lexer": "ipython3",
   "version": "3.11.7"
  }
 },
 "nbformat": 4,
 "nbformat_minor": 5
}
